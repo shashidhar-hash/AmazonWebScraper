{
 "cells": [
  {
   "cell_type": "code",
   "execution_count": 19,
   "id": "5281a2c4-fb9d-4a28-aa71-7ff68b5b89f0",
   "metadata": {},
   "outputs": [],
   "source": [
    "# import libraries \n",
    "\n",
    "from bs4 import BeautifulSoup\n",
    "import requests\n",
    "import time\n",
    "import datetime\n",
    "\n",
    "import smtplib"
   ]
  },
  {
   "cell_type": "code",
   "execution_count": 47,
   "id": "507eeb6f-3732-47e2-9ec7-2ae268e4909d",
   "metadata": {},
   "outputs": [
    {
     "name": "stdout",
     "output_type": "stream",
     "text": [
      "\n",
      "                 Heybroh Men's Regular Fit T-Shirt Talk Data to Me - Data Scientist Funny 100% Cotton T-Shirt\n",
      "                \n",
      "\n",
      "                   899\n",
      "                  \n"
     ]
    }
   ],
   "source": [
    "url = \"https://www.amazon.in/Heybroh-Mens-Regular-T-Shirt-Talk/dp/B0BTMXHRGW/ref=sr_1_6?crid=19OYRYW7MWCPF&dib=eyJ2IjoiMSJ9.SQFfbxNymYKQ6UbE-P2mJAgHGeLDv28rG5Z_CbId5dCHMr23rcyLqIPsStLUH9lm4sN4V_1l3BPTYc_DQItQ7wDO7aLn1jWBHFMOXQv1Mq78ESONUXJFtc0uHmb5oqYJeGP4Lgffi-J43BA-zpzSGI4vZLz6A12S5JDQrH8dG_sv4D3q_9XFbc52QvZlmNUjbsDRWuofXexC8fOk7saJ8AzIqJ7tC-tuP5UTFua1_pX68ssmgbgn0ysks0Rm51nfoT3OxZfV9zhHlXwvDgJtG2mTOLwD4H2_5b1lP7sBNZ4.7IzQ8k2RQkHkadvYksuDTbZPjldoUo4k6n4adcDBc6o&dib_tag=se&keywords=data%2Btshirt&qid=1761290970&sprefix=%2Caps%2C188&sr=8-6&th=1&psc=1\"\n",
    "headers = {\"User-Agent\": \"Mozilla/5.0 (Windows NT 10.0; Win64; x64) AppleWebKit/537.36 (KHTML, like Gecko) Chrome/78.0.3904.108 Safari/537.36\", \"Accept-Encoding\":\"gzip, deflate\", \"Accept\":\"text/html,application/xhtml+xml,application/xml;q=0.9,*/*;q=0.8\", \"DNT\":\"1\",\"Connection\":\"close\", \"Upgrade-Insecure-Requests\":\"1\"}\n",
    "\n",
    "page = requests.get(url, headers=headers)\n",
    "\n",
    "soup1 = BeautifulSoup(page.content, \"html.parser\")\n",
    "\n",
    "soup2 = BeautifulSoup(soup1.prettify(), \"html.parser\")\n",
    "\n",
    "# print(page.text[:500])  # show first 500 chars\n",
    "\n",
    "title = soup2.find(id=\"productTitle\").get_text()\n",
    "\n",
    "price = soup2.find(class_=\"a-price-whole\").get_text()\n",
    "\n",
    "\n",
    "print(title)\n",
    "print(price)"
   ]
  },
  {
   "cell_type": "code",
   "execution_count": 51,
   "id": "b66484b0-248c-4624-b993-7de732122831",
   "metadata": {},
   "outputs": [
    {
     "name": "stdout",
     "output_type": "stream",
     "text": [
      "Heybroh Men's Regular Fit T-Shirt Talk Data to Me - Data Scientist Funny 100% Cotton T-Shirt\n",
      "899\n"
     ]
    }
   ],
   "source": [
    "price = price.strip()\n",
    "title = title.strip()\n",
    "\n",
    "print(title)\n",
    "print(price)"
   ]
  },
  {
   "cell_type": "code",
   "execution_count": 60,
   "id": "6af54927-c84a-4d5d-89b1-7e8b28b733ee",
   "metadata": {},
   "outputs": [
    {
     "name": "stdout",
     "output_type": "stream",
     "text": [
      "2025-10-24\n"
     ]
    }
   ],
   "source": [
    "import datetime\n",
    "\n",
    "today = datetime.date.today()\n",
    "print(today)"
   ]
  },
  {
   "cell_type": "code",
   "execution_count": 63,
   "id": "9e76371b-7b61-4446-8cdd-ccfac08278ca",
   "metadata": {},
   "outputs": [],
   "source": [
    "import csv\n",
    "\n",
    "header = ['Title','Price','Date']\n",
    "data = [title,price,today]\n",
    "\n",
    "with open('AmazonWebScraper.csv','w',newline='',encoding='UTF8') as f:\n",
    "    writer = csv.writer(f)\n",
    "    writer.writerow(header)\n",
    "    writer.writerow(data)\n",
    "\n",
    "    "
   ]
  },
  {
   "cell_type": "code",
   "execution_count": 79,
   "id": "8522a5e4-df9b-4236-a64f-30e570d50c5f",
   "metadata": {},
   "outputs": [
    {
     "name": "stdout",
     "output_type": "stream",
     "text": [
      "  Heybroh Men's Regular Fit T-Shirt Talk Data to Me - Data Scientist Funny 100% Cotton T-Shirt  \\\n",
      "0  Heybroh Men's Regular Fit T-Shirt Talk Data to...                                             \n",
      "1  Heybroh Men's Regular Fit T-Shirt Talk Data to...                                             \n",
      "2  Heybroh Men's Regular Fit T-Shirt Talk Data to...                                             \n",
      "3  Heybroh Men's Regular Fit T-Shirt Talk Data to...                                             \n",
      "\n",
      "   899  2025-10-24  \n",
      "0  899  2025-10-24  \n",
      "1  899  2025-10-24  \n",
      "2  899  2025-10-24  \n",
      "3  899  2025-10-24  \n"
     ]
    }
   ],
   "source": [
    "import pandas as pd\n",
    "\n",
    "df = pd.read_csv(r'C:\\Users\\fakki\\AmazonWebScraper.csv')\n",
    "\n",
    "print(df)"
   ]
  },
  {
   "cell_type": "code",
   "execution_count": 78,
   "id": "798041dc-1508-49ac-bcc5-3bbd539396a2",
   "metadata": {},
   "outputs": [],
   "source": [
    "# append data to csv\n",
    "with open('AmazonWebScraper.csv','a+',newline='',encoding='UTF8') as f:\n",
    "    writer = csv.writer(f)\n",
    "    writer.writerow(data)"
   ]
  },
  {
   "cell_type": "code",
   "execution_count": null,
   "id": "f16075b3-8205-4870-91c4-ea89008bb59c",
   "metadata": {},
   "outputs": [],
   "source": [
    "def check_price():\n",
    "    url = \"https://www.amazon.in/Heybroh-Mens-Regular-T-Shirt-Talk/dp/B0BTMXHRGW/ref=sr_1_6?crid=19OYRYW7MWCPF&dib=eyJ2IjoiMSJ9.SQFfbxNymYKQ6UbE-P2mJAgHGeLDv28rG5Z_CbId5dCHMr23rcyLqIPsStLUH9lm4sN4V_1l3BPTYc_DQItQ7wDO7aLn1jWBHFMOXQv1Mq78ESONUXJFtc0uHmb5oqYJeGP4Lgffi-J43BA-zpzSGI4vZLz6A12S5JDQrH8dG_sv4D3q_9XFbc52QvZlmNUjbsDRWuofXexC8fOk7saJ8AzIqJ7tC-tuP5UTFua1_pX68ssmgbgn0ysks0Rm51nfoT3OxZfV9zhHlXwvDgJtG2mTOLwD4H2_5b1lP7sBNZ4.7IzQ8k2RQkHkadvYksuDTbZPjldoUo4k6n4adcDBc6o&dib_tag=se&keywords=data%2Btshirt&qid=1761290970&sprefix=%2Caps%2C188&sr=8-6&th=1&psc=1\"\n",
    "    headers = {\"User-Agent\": \"Mozilla/5.0 (Windows NT 10.0; Win64; x64) AppleWebKit/537.36 (KHTML, like Gecko) Chrome/78.0.3904.108 Safari/537.36\", \"Accept-Encoding\":\"gzip, deflate\", \"Accept\":\"text/html,application/xhtml+xml,application/xml;q=0.9,*/*;q=0.8\", \"DNT\":\"1\",\"Connection\":\"close\", \"Upgrade-Insecure-Requests\":\"1\"}\n",
    "\n",
    "    page = requests.get(url, headers=headers)\n",
    "\n",
    "    soup1 = BeautifulSoup(page.content, \"html.parser\")\n",
    "\n",
    "    soup2 = BeautifulSoup(soup1.prettify(), \"html.parser\")\n",
    "\n",
    "    # print(page.text[:500])  # show first 500 chars\n",
    "\n",
    "    title = soup2.find(id=\"productTitle\").get_text()\n",
    "\n",
    "    price = soup2.find(class_=\"a-price-whole\").get_text()\n",
    "\n",
    "    price = price.strip()\n",
    "    title = title.strip()\n",
    "\n",
    "    import datetime\n",
    "\n",
    "    today = datetime.date.today()\n",
    "\n",
    "    import csv\n",
    "\n",
    "    header = ['Title','Price','Date']\n",
    "    data = [title,price,today]\n",
    "\n",
    "    with open('AmazonWebScraper.csv','a+',newline='',encoding='UTF8') as f:\n",
    "        writer = csv.writer(f)\n",
    "        writer.writerow(data)\n",
    "\n",
    "    "
   ]
  },
  {
   "cell_type": "code",
   "execution_count": null,
   "id": "e4bec908-9772-4468-9576-5f041b95ad99",
   "metadata": {},
   "outputs": [],
   "source": [
    "while(True):\n",
    "    check_price()\n",
    "    time.sleep(5)"
   ]
  },
  {
   "cell_type": "code",
   "execution_count": 87,
   "id": "ff425c1f-a81a-4f23-9d92-78061b76dc44",
   "metadata": {},
   "outputs": [
    {
     "name": "stdout",
     "output_type": "stream",
     "text": [
      "   Heybroh Men's Regular Fit T-Shirt Talk Data to Me - Data Scientist Funny 100% Cotton T-Shirt  \\\n",
      "0   Heybroh Men's Regular Fit T-Shirt Talk Data to...                                             \n",
      "1   Heybroh Men's Regular Fit T-Shirt Talk Data to...                                             \n",
      "2   Heybroh Men's Regular Fit T-Shirt Talk Data to...                                             \n",
      "3   Heybroh Men's Regular Fit T-Shirt Talk Data to...                                             \n",
      "4   Men's Regular Fit T-Shirt Talk Data to Me - Da...                                             \n",
      "5   Heybroh Men's Regular Fit T-Shirt Talk Data to...                                             \n",
      "6   Men's Regular Fit T-Shirt Talk Data to Me - Da...                                             \n",
      "7   Heybroh Men's Regular Fit T-Shirt Talk Data to...                                             \n",
      "8   Heybroh Men's Regular Fit T-Shirt Talk Data to...                                             \n",
      "9   Heybroh Men's Regular Fit T-Shirt Talk Data to...                                             \n",
      "10  Men's Regular Fit T-Shirt Talk Data to Me - Da...                                             \n",
      "11  Men's Regular Fit T-Shirt Talk Data to Me - Da...                                             \n",
      "12  Heybroh Men's Regular Fit T-Shirt Talk Data to...                                             \n",
      "13  Men's Regular Fit T-Shirt Talk Data to Me - Da...                                             \n",
      "14  Men's Regular Fit T-Shirt Talk Data to Me - Da...                                             \n",
      "15  Men's Regular Fit T-Shirt Talk Data to Me - Da...                                             \n",
      "16  Men's Regular Fit T-Shirt Talk Data to Me - Da...                                             \n",
      "\n",
      "    899  2025-10-24  \n",
      "0   899  2025-10-24  \n",
      "1   899  2025-10-24  \n",
      "2   899  2025-10-24  \n",
      "3   899  2025-10-24  \n",
      "4   899  2025-10-24  \n",
      "5   899  2025-10-24  \n",
      "6   899  2025-10-24  \n",
      "7   899  2025-10-24  \n",
      "8   899  2025-10-24  \n",
      "9   899  2025-10-24  \n",
      "10  899  2025-10-24  \n",
      "11  899  2025-10-24  \n",
      "12  899  2025-10-24  \n",
      "13  899  2025-10-24  \n",
      "14  899  2025-10-24  \n",
      "15  899  2025-10-24  \n",
      "16  899  2025-10-24  \n"
     ]
    }
   ],
   "source": [
    "import pandas as pd\n",
    "\n",
    "df = pd.read_csv(r'C:\\Users\\fakki\\AmazonWebScraper.csv')\n",
    "\n",
    "print(df)"
   ]
  },
  {
   "cell_type": "code",
   "execution_count": null,
   "id": "68c3f91c-5d57-4943-8e16-7e999ca2e39b",
   "metadata": {},
   "outputs": [],
   "source": []
  }
 ],
 "metadata": {
  "kernelspec": {
   "display_name": "Python [conda env:base] *",
   "language": "python",
   "name": "conda-base-py"
  },
  "language_info": {
   "codemirror_mode": {
    "name": "ipython",
    "version": 3
   },
   "file_extension": ".py",
   "mimetype": "text/x-python",
   "name": "python",
   "nbconvert_exporter": "python",
   "pygments_lexer": "ipython3",
   "version": "3.13.5"
  }
 },
 "nbformat": 4,
 "nbformat_minor": 5
}
